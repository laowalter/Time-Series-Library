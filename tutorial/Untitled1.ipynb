{
 "cells": [
  {
   "cell_type": "code",
   "execution_count": 1,
   "id": "e4c78b73-22dd-4b5d-87b5-404e7e1d1673",
   "metadata": {},
   "outputs": [],
   "source": [
    "import torch\n",
    "import torch.nn as nn"
   ]
  },
  {
   "cell_type": "code",
   "execution_count": null,
   "id": "f981da96-8774-46db-852b-4fd08eae821c",
   "metadata": {},
   "outputs": [],
   "source": []
  },
  {
   "cell_type": "code",
   "execution_count": 2,
   "id": "03cb14a9-f4be-400a-823a-f844c087f98b",
   "metadata": {},
   "outputs": [],
   "source": [
    "arr = torch.rand(3, 4, 5)"
   ]
  },
  {
   "cell_type": "code",
   "execution_count": 3,
   "id": "db90d110-ea33-4c18-a5a9-0beba70da513",
   "metadata": {},
   "outputs": [
    {
     "data": {
      "text/plain": [
       "tensor([[[0.9302, 0.7646, 0.8260, 0.0922, 0.1571],\n",
       "         [0.1382, 0.7783, 0.9480, 0.9625, 0.5481],\n",
       "         [0.8833, 0.7569, 0.0297, 0.3275, 0.9445],\n",
       "         [0.7239, 0.9559, 0.0294, 0.2837, 0.8355]],\n",
       "\n",
       "        [[0.0992, 0.8544, 0.2323, 0.5384, 0.4289],\n",
       "         [0.3156, 0.0849, 0.5892, 0.2040, 0.0587],\n",
       "         [0.1937, 0.7431, 0.5903, 0.1813, 0.8900],\n",
       "         [0.2077, 0.6300, 0.3359, 0.2203, 0.6355]],\n",
       "\n",
       "        [[0.4023, 0.5747, 0.9968, 0.7885, 0.0982],\n",
       "         [0.1537, 0.1624, 0.7470, 0.8261, 0.6990],\n",
       "         [0.7162, 0.4233, 0.6410, 0.1653, 0.9782],\n",
       "         [0.0140, 0.4309, 0.2729, 0.8013, 0.6197]]])"
      ]
     },
     "execution_count": 3,
     "metadata": {},
     "output_type": "execute_result"
    }
   ],
   "source": [
    "arr"
   ]
  },
  {
   "cell_type": "code",
   "execution_count": 6,
   "id": "6be24a80-b503-41d0-9b39-04baa42e3c0c",
   "metadata": {},
   "outputs": [
    {
     "data": {
      "text/plain": [
       "tensor([[[0.1571],\n",
       "         [0.5481],\n",
       "         [0.9445],\n",
       "         [0.8355]],\n",
       "\n",
       "        [[0.4289],\n",
       "         [0.0587],\n",
       "         [0.8900],\n",
       "         [0.6355]],\n",
       "\n",
       "        [[0.0982],\n",
       "         [0.6990],\n",
       "         [0.9782],\n",
       "         [0.6197]]])"
      ]
     },
     "execution_count": 6,
     "metadata": {},
     "output_type": "execute_result"
    }
   ],
   "source": [
    "arr[:, :, -1:]"
   ]
  },
  {
   "cell_type": "code",
   "execution_count": 7,
   "id": "23f9a563-795c-4497-82af-c3d80f090c12",
   "metadata": {},
   "outputs": [],
   "source": [
    "f_dim = slice(-1,None)"
   ]
  },
  {
   "cell_type": "code",
   "execution_count": 9,
   "id": "f76f691f-eddb-4aaf-b6c8-f2b019bf3fff",
   "metadata": {},
   "outputs": [
    {
     "data": {
      "text/plain": [
       "tensor([[[0.1571],\n",
       "         [0.5481],\n",
       "         [0.9445],\n",
       "         [0.8355]],\n",
       "\n",
       "        [[0.4289],\n",
       "         [0.0587],\n",
       "         [0.8900],\n",
       "         [0.6355]],\n",
       "\n",
       "        [[0.0982],\n",
       "         [0.6990],\n",
       "         [0.9782],\n",
       "         [0.6197]]])"
      ]
     },
     "execution_count": 9,
     "metadata": {},
     "output_type": "execute_result"
    }
   ],
   "source": [
    "arr[:, :, f_dim]"
   ]
  },
  {
   "cell_type": "code",
   "execution_count": 12,
   "id": "55c7c45b-2772-48e8-bbe9-e359bb124ed1",
   "metadata": {},
   "outputs": [],
   "source": [
    "f_dim = slice(1, 4)"
   ]
  },
  {
   "cell_type": "code",
   "execution_count": 13,
   "id": "824261b9-bbd4-48f8-a4cf-d69c1abadca0",
   "metadata": {},
   "outputs": [
    {
     "data": {
      "text/plain": [
       "tensor([[[0.7646, 0.8260, 0.0922],\n",
       "         [0.7783, 0.9480, 0.9625],\n",
       "         [0.7569, 0.0297, 0.3275],\n",
       "         [0.9559, 0.0294, 0.2837]],\n",
       "\n",
       "        [[0.8544, 0.2323, 0.5384],\n",
       "         [0.0849, 0.5892, 0.2040],\n",
       "         [0.7431, 0.5903, 0.1813],\n",
       "         [0.6300, 0.3359, 0.2203]],\n",
       "\n",
       "        [[0.5747, 0.9968, 0.7885],\n",
       "         [0.1624, 0.7470, 0.8261],\n",
       "         [0.4233, 0.6410, 0.1653],\n",
       "         [0.4309, 0.2729, 0.8013]]])"
      ]
     },
     "execution_count": 13,
     "metadata": {},
     "output_type": "execute_result"
    }
   ],
   "source": [
    "arr[:, :, f_dim]"
   ]
  },
  {
   "cell_type": "code",
   "execution_count": null,
   "id": "18b9bb54-c827-4428-a48a-f8ace900928e",
   "metadata": {},
   "outputs": [],
   "source": []
  },
  {
   "cell_type": "code",
   "execution_count": null,
   "id": "c824f0cd-e304-49fb-b94e-d375109ef802",
   "metadata": {},
   "outputs": [],
   "source": []
  }
 ],
 "metadata": {
  "kernelspec": {
   "display_name": "Python 3 (ipykernel)",
   "language": "python",
   "name": "python3"
  },
  "language_info": {
   "codemirror_mode": {
    "name": "ipython",
    "version": 3
   },
   "file_extension": ".py",
   "mimetype": "text/x-python",
   "name": "python",
   "nbconvert_exporter": "python",
   "pygments_lexer": "ipython3",
   "version": "3.10.14"
  }
 },
 "nbformat": 4,
 "nbformat_minor": 5
}
