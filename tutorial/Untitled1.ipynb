{
 "cells": [
  {
   "cell_type": "code",
   "execution_count": 15,
   "id": "3ef45c58-ea36-4aaf-9b04-698b1aeb70bb",
   "metadata": {},
   "outputs": [],
   "source": [
    "import numpy as np\n",
    "import torch\n",
    "import math"
   ]
  },
  {
   "cell_type": "code",
   "execution_count": 11,
   "id": "f86067fe-d3a9-4a33-9702-00e738ab5e44",
   "metadata": {},
   "outputs": [],
   "source": [
    "input_indices = torch.tensor([[1.0,2.0,3.0,4.0]])"
   ]
  },
  {
   "cell_type": "code",
   "execution_count": 12,
   "id": "09e13b95-7389-411f-8698-7098f3073b85",
   "metadata": {},
   "outputs": [
    {
     "data": {
      "text/plain": [
       "tensor([5.4772])"
      ]
     },
     "execution_count": 12,
     "metadata": {},
     "output_type": "execute_result"
    }
   ],
   "source": [
    "torch.norm(input_indices, dim=1)"
   ]
  },
  {
   "cell_type": "code",
   "execution_count": 16,
   "id": "d66d13b8-e2bf-42b9-a0f0-91712ed2eb87",
   "metadata": {},
   "outputs": [
    {
     "data": {
      "text/plain": [
       "5.477225575051661"
      ]
     },
     "execution_count": 16,
     "metadata": {},
     "output_type": "execute_result"
    }
   ],
   "source": [
    "math.sqrt(1+2*2+3*3+4*4)"
   ]
  },
  {
   "cell_type": "code",
   "execution_count": 17,
   "id": "3b287e50-5f2b-42ee-8a69-3f17045f8518",
   "metadata": {},
   "outputs": [],
   "source": [
    "input_indices = torch.tensor([1.0,2.0,3.0,4.0])"
   ]
  },
  {
   "cell_type": "code",
   "execution_count": 18,
   "id": "85e52795-cf4a-4815-8cec-2abbac7a326f",
   "metadata": {},
   "outputs": [
    {
     "data": {
      "text/plain": [
       "tensor(5.4772)"
      ]
     },
     "execution_count": 18,
     "metadata": {},
     "output_type": "execute_result"
    }
   ],
   "source": [
    "torch.norm(input_indices)"
   ]
  },
  {
   "cell_type": "code",
   "execution_count": 22,
   "id": "1b21d4d8-c7aa-4621-a07b-0ec699abf37d",
   "metadata": {},
   "outputs": [],
   "source": [
    "input_indices = torch.tensor([[1.0,2.0,3.0,4.0], [0.0,0.0,math.sqrt(6),0.0]])"
   ]
  },
  {
   "cell_type": "code",
   "execution_count": 23,
   "id": "a3301c04-a1a5-47b5-bdab-869c764830e6",
   "metadata": {},
   "outputs": [
    {
     "data": {
      "text/plain": [
       "tensor(6.)"
      ]
     },
     "execution_count": 23,
     "metadata": {},
     "output_type": "execute_result"
    }
   ],
   "source": [
    "torch.norm(input_indices)"
   ]
  },
  {
   "cell_type": "code",
   "execution_count": 24,
   "id": "f27b4d43-cc86-49a3-94df-1b16611f9fdf",
   "metadata": {},
   "outputs": [
    {
     "data": {
      "text/plain": [
       "tensor([5.4772, 2.4495])"
      ]
     },
     "execution_count": 24,
     "metadata": {},
     "output_type": "execute_result"
    }
   ],
   "source": [
    "torch.norm(input_indices, dim=1)"
   ]
  },
  {
   "cell_type": "code",
   "execution_count": 27,
   "id": "590eaaa0-00fa-48de-b244-bbe40e675bc1",
   "metadata": {},
   "outputs": [
    {
     "data": {
      "text/plain": [
       "tensor(6.)"
      ]
     },
     "execution_count": 27,
     "metadata": {},
     "output_type": "execute_result"
    }
   ],
   "source": [
    "torch.norm(torch.tensor([0.0,0.0,6,0.0]))"
   ]
  },
  {
   "cell_type": "code",
   "execution_count": 28,
   "id": "ff53550e-62b6-4c9c-a02d-32ef39619fc3",
   "metadata": {},
   "outputs": [
    {
     "data": {
      "text/plain": [
       "torch.Size([2, 4])"
      ]
     },
     "execution_count": 28,
     "metadata": {},
     "output_type": "execute_result"
    }
   ],
   "source": [
    "input_indices.shape"
   ]
  },
  {
   "cell_type": "code",
   "execution_count": null,
   "id": "a6cd4fb2-f3ff-481c-be7f-46512e62476d",
   "metadata": {},
   "outputs": [],
   "source": [
    "n"
   ]
  },
  {
   "cell_type": "code",
   "execution_count": null,
   "id": "f69cd55f-5e5f-41b0-ba9a-00a3b812ba82",
   "metadata": {},
   "outputs": [],
   "source": []
  }
 ],
 "metadata": {
  "kernelspec": {
   "display_name": "Python 3 (ipykernel)",
   "language": "python",
   "name": "python3"
  },
  "language_info": {
   "codemirror_mode": {
    "name": "ipython",
    "version": 3
   },
   "file_extension": ".py",
   "mimetype": "text/x-python",
   "name": "python",
   "nbconvert_exporter": "python",
   "pygments_lexer": "ipython3",
   "version": "3.10.14"
  }
 },
 "nbformat": 4,
 "nbformat_minor": 5
}
