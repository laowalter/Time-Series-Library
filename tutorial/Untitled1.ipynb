{
 "cells": [
  {
   "cell_type": "code",
   "execution_count": 17,
   "id": "e4c78b73-22dd-4b5d-87b5-404e7e1d1673",
   "metadata": {},
   "outputs": [],
   "source": [
    "import torch\n",
    "import torch.nn as nn"
   ]
  },
  {
   "cell_type": "code",
   "execution_count": 2,
   "id": "4876d696-c6ff-4046-a703-c308d7bf5c7b",
   "metadata": {},
   "outputs": [],
   "source": [
    "x = torch.rand(2,4,5)"
   ]
  },
  {
   "cell_type": "code",
   "execution_count": 3,
   "id": "b0926850-88b9-4854-86f2-aae592e36bb1",
   "metadata": {},
   "outputs": [
    {
     "data": {
      "text/plain": [
       "tensor([[[0.9361, 0.2419, 0.8914, 0.6563, 0.8088],\n",
       "         [0.8205, 0.0816, 0.7850, 0.3263, 0.6876],\n",
       "         [0.0235, 0.9676, 0.7652, 0.7727, 0.1540],\n",
       "         [0.8508, 0.2072, 0.0961, 0.3273, 0.3188]],\n",
       "\n",
       "        [[0.6619, 0.2119, 0.3890, 0.2755, 0.4114],\n",
       "         [0.8796, 0.8804, 0.0825, 0.4347, 0.8278],\n",
       "         [0.1894, 0.6012, 0.0858, 0.3514, 0.4617],\n",
       "         [0.0946, 0.5688, 0.4623, 0.4941, 0.5812]]])"
      ]
     },
     "execution_count": 3,
     "metadata": {},
     "output_type": "execute_result"
    }
   ],
   "source": [
    "x"
   ]
  },
  {
   "cell_type": "code",
   "execution_count": 4,
   "id": "3986dcc5-a381-4d8e-8f60-6fe7f09f16d9",
   "metadata": {},
   "outputs": [
    {
     "data": {
      "text/plain": [
       "torch.Size([2, 1, 5])"
      ]
     },
     "execution_count": 4,
     "metadata": {},
     "output_type": "execute_result"
    }
   ],
   "source": [
    "x[:, 0:1, :].shape"
   ]
  },
  {
   "cell_type": "code",
   "execution_count": 5,
   "id": "ff011f55-05aa-4ca4-bfe4-8c6af25ca24c",
   "metadata": {},
   "outputs": [
    {
     "data": {
      "text/plain": [
       "torch.Size([2, 2, 5])"
      ]
     },
     "execution_count": 5,
     "metadata": {},
     "output_type": "execute_result"
    }
   ],
   "source": [
    "front=x[:, 0:1, :].repeat(1, 2, 1)\n",
    "front.shape"
   ]
  },
  {
   "cell_type": "code",
   "execution_count": 6,
   "id": "e2e5e6bf-fee2-4edb-9c89-7419740569fd",
   "metadata": {},
   "outputs": [
    {
     "data": {
      "text/plain": [
       "tensor([[[0.9361, 0.2419, 0.8914, 0.6563, 0.8088],\n",
       "         [0.9361, 0.2419, 0.8914, 0.6563, 0.8088]],\n",
       "\n",
       "        [[0.6619, 0.2119, 0.3890, 0.2755, 0.4114],\n",
       "         [0.6619, 0.2119, 0.3890, 0.2755, 0.4114]]])"
      ]
     },
     "execution_count": 6,
     "metadata": {},
     "output_type": "execute_result"
    }
   ],
   "source": [
    "front"
   ]
  },
  {
   "cell_type": "code",
   "execution_count": 7,
   "id": "dbadc6e2-50e3-4481-9953-7dac5d533c5d",
   "metadata": {},
   "outputs": [
    {
     "data": {
      "text/plain": [
       "torch.Size([2, 4, 5])"
      ]
     },
     "execution_count": 7,
     "metadata": {},
     "output_type": "execute_result"
    }
   ],
   "source": [
    "x.shape"
   ]
  },
  {
   "cell_type": "code",
   "execution_count": 8,
   "id": "f922026b-07af-4d7f-884b-0cd277e8019c",
   "metadata": {},
   "outputs": [
    {
     "data": {
      "text/plain": [
       "torch.Size([2, 1, 5])"
      ]
     },
     "execution_count": 8,
     "metadata": {},
     "output_type": "execute_result"
    }
   ],
   "source": [
    "x[:,-1:, :].shape"
   ]
  },
  {
   "cell_type": "code",
   "execution_count": 11,
   "id": "33c78c90-0096-4313-93e3-adcd45827f56",
   "metadata": {},
   "outputs": [
    {
     "data": {
      "text/plain": [
       "tensor([[[0.8508, 0.2072, 0.0961, 0.3273, 0.3188],\n",
       "         [0.8508, 0.2072, 0.0961, 0.3273, 0.3188]],\n",
       "\n",
       "        [[0.0946, 0.5688, 0.4623, 0.4941, 0.5812],\n",
       "         [0.0946, 0.5688, 0.4623, 0.4941, 0.5812]]])"
      ]
     },
     "execution_count": 11,
     "metadata": {},
     "output_type": "execute_result"
    }
   ],
   "source": [
    "end=x[:,-1:,:].repeat(1, 2, 1)\n",
    "end"
   ]
  },
  {
   "cell_type": "code",
   "execution_count": 12,
   "id": "996984cf-4afe-4f1a-a28f-51c0c8365a4e",
   "metadata": {},
   "outputs": [
    {
     "data": {
      "text/plain": [
       "torch.Size([2, 2, 5])"
      ]
     },
     "execution_count": 12,
     "metadata": {},
     "output_type": "execute_result"
    }
   ],
   "source": [
    "end.shape"
   ]
  },
  {
   "cell_type": "code",
   "execution_count": 14,
   "id": "7ff5da96-462c-4745-8b78-e6762f794267",
   "metadata": {},
   "outputs": [
    {
     "data": {
      "text/plain": [
       "tensor([[[0.9361, 0.2419, 0.8914, 0.6563, 0.8088],\n",
       "         [0.9361, 0.2419, 0.8914, 0.6563, 0.8088],\n",
       "         [0.9361, 0.2419, 0.8914, 0.6563, 0.8088],\n",
       "         [0.8205, 0.0816, 0.7850, 0.3263, 0.6876],\n",
       "         [0.0235, 0.9676, 0.7652, 0.7727, 0.1540],\n",
       "         [0.8508, 0.2072, 0.0961, 0.3273, 0.3188],\n",
       "         [0.8508, 0.2072, 0.0961, 0.3273, 0.3188],\n",
       "         [0.8508, 0.2072, 0.0961, 0.3273, 0.3188]],\n",
       "\n",
       "        [[0.6619, 0.2119, 0.3890, 0.2755, 0.4114],\n",
       "         [0.6619, 0.2119, 0.3890, 0.2755, 0.4114],\n",
       "         [0.6619, 0.2119, 0.3890, 0.2755, 0.4114],\n",
       "         [0.8796, 0.8804, 0.0825, 0.4347, 0.8278],\n",
       "         [0.1894, 0.6012, 0.0858, 0.3514, 0.4617],\n",
       "         [0.0946, 0.5688, 0.4623, 0.4941, 0.5812],\n",
       "         [0.0946, 0.5688, 0.4623, 0.4941, 0.5812],\n",
       "         [0.0946, 0.5688, 0.4623, 0.4941, 0.5812]]])"
      ]
     },
     "execution_count": 14,
     "metadata": {},
     "output_type": "execute_result"
    }
   ],
   "source": [
    "x = torch.cat([front, x, end], dim=1)\n",
    "x"
   ]
  },
  {
   "cell_type": "code",
   "execution_count": 15,
   "id": "67ea595f-40c3-4cf5-9e6f-9ec3e7663e96",
   "metadata": {},
   "outputs": [
    {
     "data": {
      "text/plain": [
       "torch.Size([2, 8, 5])"
      ]
     },
     "execution_count": 15,
     "metadata": {},
     "output_type": "execute_result"
    }
   ],
   "source": [
    "x.shape"
   ]
  },
  {
   "cell_type": "code",
   "execution_count": 20,
   "id": "900c337d-a6bf-4c5e-8628-2e54aebdb214",
   "metadata": {},
   "outputs": [],
   "source": [
    "avg_pool = nn.AvgPool1d(kernel_size=2, stride=1, padding=0)"
   ]
  },
  {
   "cell_type": "code",
   "execution_count": 21,
   "id": "b53c515a-e888-40d3-aaae-b269c00829a1",
   "metadata": {},
   "outputs": [
    {
     "data": {
      "text/plain": [
       "tensor([[[0.5890, 0.5666, 0.7738, 0.7325],\n",
       "         [0.5890, 0.5666, 0.7738, 0.7325],\n",
       "         [0.5890, 0.5666, 0.7738, 0.7325],\n",
       "         [0.4511, 0.4333, 0.5557, 0.5070],\n",
       "         [0.4956, 0.8664, 0.7690, 0.4633],\n",
       "         [0.5290, 0.1516, 0.2117, 0.3230],\n",
       "         [0.5290, 0.1516, 0.2117, 0.3230],\n",
       "         [0.5290, 0.1516, 0.2117, 0.3230]],\n",
       "\n",
       "        [[0.4369, 0.3005, 0.3323, 0.3435],\n",
       "         [0.4369, 0.3005, 0.3323, 0.3435],\n",
       "         [0.4369, 0.3005, 0.3323, 0.3435],\n",
       "         [0.8800, 0.4815, 0.2586, 0.6312],\n",
       "         [0.3953, 0.3435, 0.2186, 0.4066],\n",
       "         [0.3317, 0.5155, 0.4782, 0.5376],\n",
       "         [0.3317, 0.5155, 0.4782, 0.5376],\n",
       "         [0.3317, 0.5155, 0.4782, 0.5376]]])"
      ]
     },
     "execution_count": 21,
     "metadata": {},
     "output_type": "execute_result"
    }
   ],
   "source": [
    "avg_pool(x)"
   ]
  },
  {
   "cell_type": "code",
   "execution_count": null,
   "id": "dc7728c5-bfef-4016-aa0e-113ed3f2246d",
   "metadata": {},
   "outputs": [],
   "source": []
  }
 ],
 "metadata": {
  "kernelspec": {
   "display_name": "Python 3 (ipykernel)",
   "language": "python",
   "name": "python3"
  },
  "language_info": {
   "codemirror_mode": {
    "name": "ipython",
    "version": 3
   },
   "file_extension": ".py",
   "mimetype": "text/x-python",
   "name": "python",
   "nbconvert_exporter": "python",
   "pygments_lexer": "ipython3",
   "version": "3.10.14"
  }
 },
 "nbformat": 4,
 "nbformat_minor": 5
}
